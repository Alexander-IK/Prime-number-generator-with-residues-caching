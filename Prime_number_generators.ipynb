{
  "nbformat": 4,
  "nbformat_minor": 0,
  "metadata": {
    "kernelspec": {
      "display_name": "Python 3",
      "language": "python",
      "name": "python3"
    },
    "language_info": {
      "codemirror_mode": {
        "name": "ipython",
        "version": 3
      },
      "file_extension": ".py",
      "mimetype": "text/x-python",
      "name": "python",
      "nbconvert_exporter": "python",
      "pygments_lexer": "ipython3",
      "version": "3.8.6"
    },
    "colab": {
      "name": "Prime number generators.ipynb",
      "provenance": [],
      "include_colab_link": true
    }
  },
  "cells": [
    {
      "cell_type": "markdown",
      "metadata": {
        "id": "view-in-github",
        "colab_type": "text"
      },
      "source": [
        "<a href=\"https://colab.research.google.com/github/Alexander-IK/Prime-number-generators-with-residues-caching/blob/main/Prime_number_generators.ipynb\" target=\"_parent\"><img src=\"https://colab.research.google.com/assets/colab-badge.svg\" alt=\"Open In Colab\"/></a>"
      ]
    },
    {
      "cell_type": "markdown",
      "metadata": {
        "id": "-eQetdMMgXKU"
      },
      "source": [
        "# Prime number generator using trial division method with residues caching"
      ]
    },
    {
      "cell_type": "code",
      "metadata": {
        "colab": {
          "base_uri": "https://localhost:8080/"
        },
        "id": "GhtwGedcfnXN",
        "outputId": "0801ea52-f357-4a0e-e8c7-b95a7f139892"
      },
      "source": [
        "# algorithmic complexity - O(Nloglog(N^0.5))\n",
        "# space complexity - O(N^0.5)\n",
        "# general description is here: https://habr.com/ru/post/472036/\n",
        "\n",
        "def my_primes(N_max):\n",
        "    yield 2; yield 3; yield 5\n",
        "    P_n = 5             # last found prime number\n",
        "    primes = (3, 5)     # tuple of primes\n",
        "    R = [2]             # residues list (P_n % prime) for prime in primes[3...P_n^0.5]\n",
        "    i = 1\n",
        "    while True:\n",
        "        r =  []         # current residues list\n",
        "        for j in range(len(R)):\n",
        "            r.append((R[j] + 2*i) % primes[j])\n",
        "            if r[-1] == 0: i += 1; break\n",
        "        if r[-1] != 0 and primes[j + 1] ** 2 == P_n + 2*i:\n",
        "            R.append(primes[j + 1] - 2*i)\n",
        "            i += 1\n",
        "        elif r[-1] != 0:\n",
        "            P_n = P_n + 2*i\n",
        "            if P_n <= int(N_max**0.5) + 10:\n",
        "                primes += (P_n,)\n",
        "            if P_n > N_max: break\n",
        "            yield P_n\n",
        "            R, i = r, 1\n",
        " \n",
        "# ---------------------------------\n",
        "# Comparision with other generators\n",
        " \n",
        "# Sieve of Eratosthenes \n",
        "def sieve_Eratosthenes(N_max):\n",
        "    a = [True] * N_max                         \n",
        "    a[0] = a[1] = False\n",
        "    sqrt = int(N_max ** 0.5) + 1\n",
        "    for i in range(sqrt):\n",
        "        isprime = a[i]\n",
        "        if isprime:\n",
        "            yield i\n",
        "            for n in range(i*i, N_max, i):     \n",
        "                a[n] = False\n",
        "    for (i, isprime) in enumerate(a[sqrt:]):\n",
        "        if isprime: yield i + sqrt\n",
        "\n",
        "# Sieve of Atkin\n",
        "def sieve_Atkin(N_max):\n",
        "    yield 2; yield 3\n",
        "    sieve = [False] * (N_max + 1)\n",
        "    for x in range(1, int(N_max ** 0.5) + 1):\n",
        "        for y in range(1, int(N_max ** 0.5) + 1):\n",
        "            n = 4*x**2 + y**2\n",
        "            if n <= N_max and (n % 12 == 1 or n % 12 == 5):\n",
        "                sieve[n] = not sieve[n]\n",
        "            n = 3*x**2 + y**2\n",
        "            if n <= N_max and n % 12 == 7:\n",
        "                sieve[n] = not sieve[n]\n",
        "            n = 3*x**2 - y**2\n",
        "            if x > y and n <= N_max and n % 12 == 11:\n",
        "                sieve[n] = not sieve[n]\n",
        "    for x in range(5, int(N_max ** 0.5)):\n",
        "        if sieve[x]:\n",
        "            for y in range(x**2, N_max + 1, x**2):\n",
        "                sieve[y] = False\n",
        "    for p in range(5, N_max):\n",
        "        if sieve[p]: yield p\n",
        "\n",
        "# Generator with primeseive (C/C++ library)\n",
        "from primesieve import *\n",
        "def primesieve(N_max):\n",
        "    for p in primes(N_max):\n",
        "        yield p\n",
        " \n",
        "#---------------------------------\n",
        "import time\n",
        "N_max = 100000\n",
        "\n",
        "gens = [my_primes(N_max), sieve_Eratosthenes(N_max),\n",
        "        sieve_Atkin(N_max), primesieve(N_max)]\n",
        "for gen in gens:\n",
        "    print(gen.__name__)\n",
        "    t0 = time.time()\n",
        "    for i in gen:\n",
        "        if i > N_max - 100:\n",
        "            print(i, end =' ')\n",
        "    t1 = time.time()\n",
        "    print('\\n', \"Time elapsed: \", round(t1 - t0, 3))"
      ],
      "execution_count": 16,
      "outputs": [
        {
          "output_type": "stream",
          "text": [
            "my_primes\n",
            "99901 99907 99923 99929 99961 99971 99989 99991 \n",
            " Time elapsed:  0.184\n",
            "sieve_Eratosthenes\n",
            "99901 99907 99923 99929 99961 99971 99989 99991 \n",
            " Time elapsed:  0.023\n",
            "sieve_Atkin\n",
            "99901 99907 99923 99929 99961 99971 99989 99991 \n",
            " Time elapsed:  0.208\n",
            "primesieve\n",
            "99901 99907 99923 99929 99961 99971 99989 99991 \n",
            " Time elapsed:  0.002\n"
          ],
          "name": "stdout"
        }
      ]
    },
    {
      "cell_type": "code",
      "metadata": {
        "colab": {
          "base_uri": "https://localhost:8080/"
        },
        "id": "aMmbrFGhdU-T",
        "outputId": "bf89a4df-4a70-44cd-f2a7-27f683e00070"
      },
      "source": [
        "# Ver. 2\n",
        "\n",
        "import time\n",
        "\n",
        "def my_primes(N_max):\n",
        "    yield 2; yield 3; yield 5\n",
        "    P_n = 5             # last found prime number\n",
        "    primes = (3, 5)     # tuple of primes\n",
        "    R = [2]             # residues list (P_n % prime) for prime in primes[3...P_n^0.5]\n",
        "    i = 1\n",
        "    while True:\n",
        "        for j in range(len(R)):\n",
        "            res = (R[j] + 2*i) % primes[j]\n",
        "            if res == 0: i += 1; break\n",
        "        if res != 0 and primes[j + 1] ** 2 == P_n + 2*i:\n",
        "            R.append(primes[j + 1] - 2*i)\n",
        "            i += 1\n",
        "        elif res != 0:\n",
        "            for j in range(len(R)):\n",
        "                R[j] = (R[j] + 2*i) % primes[j]\n",
        "            P_n = P_n + 2*i\n",
        "            if P_n <= int(N_max**0.5) + 10:\n",
        "                primes += (P_n,)\n",
        "            if P_n > N_max: break\n",
        "            yield P_n\n",
        "            i = 1\n",
        "\n",
        "N_max = 100000\n",
        "t0 = time.time()\n",
        "for i in my_primes(N_max):\n",
        "    if i > N_max - 100:\n",
        "        print(i, end =' ')\n",
        "t1 = time.time()\n",
        "print('\\n', \"Time elapsed: \", round(t1 - t0, 4))"
      ],
      "execution_count": 15,
      "outputs": [
        {
          "output_type": "stream",
          "text": [
            "99901 99907 99923 99929 99961 99971 99989 99991 \n",
            " Time elapsed:  0.1887\n"
          ],
          "name": "stdout"
        }
      ]
    }
  ]
}
